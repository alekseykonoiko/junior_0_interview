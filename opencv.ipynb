{
 "cells": [
  {
   "cell_type": "code",
   "execution_count": null,
   "source": [
    "import cv2"
   ],
   "outputs": [],
   "metadata": {}
  },
  {
   "cell_type": "markdown",
   "source": [
    "1) В чем проблема данного кода по проирыванию видео?"
   ],
   "metadata": {}
  },
  {
   "cell_type": "code",
   "execution_count": null,
   "source": [
    "vcap = cv2.VideoCapture('1.mp4')\n",
    "\n",
    "while vcap.isOpened():\n",
    "    ret, frame = vcap.read()\n",
    "    frame_count = vcap.get(1)\n",
    "    if ret:\n",
    "        cv2.imshow('video_feed', frame)\n",
    "        cv2.waitKey(1)\n",
    "    # else:\n",
    "    #     break"
   ],
   "outputs": [],
   "metadata": {}
  },
  {
   "cell_type": "markdown",
   "source": [
    "2) Мы имеем видеофайл формата mp4, разрешением 488х540 и с частотой кадров 25FPS. Чем будет отличаться выходное видео, после выполнения данного кода?  "
   ],
   "metadata": {}
  },
  {
   "cell_type": "code",
   "execution_count": null,
   "source": [
    "vcap = cv2.VideoCapture('1.mp4')\n",
    "out = cv2.VideoWriter(f'video_out.mp4', cv2.VideoWriter_fourcc(*'mp4v'), 10, (540, 488))\n",
    "\n",
    "while vcap.isOpened():\n",
    "    ret, frame = vcap.read()\n",
    "    frame_count = vcap.get(1)\n",
    "    if ret:\n",
    "        print(frame.shape)\n",
    "        cv2.imshow('video_feed', frame)\n",
    "        out.write(frame)\n",
    "        cv2.waitKey(1)\n",
    "    else:\n",
    "        out.release()\n",
    "        break"
   ],
   "outputs": [],
   "metadata": {}
  },
  {
   "cell_type": "markdown",
   "source": [
    "3. В OpenCV при загрузке цветного изображения условным разрешением 240x240px, иы получаем массив такой формы (240, 240, 3). Причем порядок цветовых каналов не RGB, а BGR."
   ],
   "metadata": {}
  },
  {
   "cell_type": "code",
   "execution_count": null,
   "source": [
    "img = cv2.imread('test_img.jpg')\n",
    "# Учитывая вышесказанную информацию что произойдет с картинкой при выполении данных операций?\n",
    "img[:,:,0] = img[:,:,0] * 0.5\n",
    "img[:,:,1] = img[:,:,1] * 0.5\n",
    "\n",
    "cv2.imshow('image', img)\n",
    "cv2.waitKey(1000)\n"
   ],
   "outputs": [],
   "metadata": {}
  }
 ],
 "metadata": {
  "orig_nbformat": 4,
  "language_info": {
   "name": "python",
   "version": "3.8.10",
   "mimetype": "text/x-python",
   "codemirror_mode": {
    "name": "ipython",
    "version": 3
   },
   "pygments_lexer": "ipython3",
   "nbconvert_exporter": "python",
   "file_extension": ".py"
  },
  "kernelspec": {
   "name": "python3",
   "display_name": "Python 3.8.10 64-bit ('code_comp': venv)"
  },
  "interpreter": {
   "hash": "086f24abe556553a9b551d8d743a4e801dd0066730da66a499a573838852acb9"
  }
 },
 "nbformat": 4,
 "nbformat_minor": 2
}