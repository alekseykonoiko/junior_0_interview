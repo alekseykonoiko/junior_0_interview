{
 "cells": [
  {
   "cell_type": "markdown",
   "source": [
    "1. Какие типы данных вы знаете в Python?<br><br>\n",
    "1.1 Какие есть из них изменяемые, какие нет?<br>\n",
    "<br><br>\n",
    "2. Что означает пространство имен? Какие они бывыают?<br>\n",
    "<br><br>\n",
    "3. В0 чем разница между потоками и процессами? Какие есть нюансы?<br>\n",
    "<br><br>\n",
    "4. Что такое лямбда-функция? Где ее имеет смысл использовать?<br>\n",
    "<br><br>\n",
    "5. Как используются операторы // и % при делении?\n",
    "<br><br>\n",
    "6. Что означает self в питоне?<br>\n",
    "<br><br>\n",
    "7. Классы - зачем нужны классы?<br>\n",
    "Пример что будет принтиться?:"
   ],
   "metadata": {}
  },
  {
   "cell_type": "code",
   "execution_count": null,
   "source": [
    "\n",
    "class Test():\n",
    "\n",
    "    b = 5\n",
    "\n",
    "    def __init__(self, a):\n",
    "        self.a = a\n",
    "\n",
    "    def kek(self):\n",
    "        print(self.a)\n",
    "\n",
    "\n",
    "# это для ивана\n",
    "# def main(mass=[], a=1):\n",
    "#     mass.append(a)\n",
    "#     a += 1\n",
    "#     return mass"
   ],
   "outputs": [],
   "metadata": {}
  },
  {
   "cell_type": "markdown",
   "source": [
    "8. Какие встроенные методы в python вы знаете?<br>\n",
    "8.1 Что можете рассказать про map и zip?<br>\n",
    "8.2 Напишите возведение в квадрат списка с помощью функции map<br>\n",
    "<br><br>\n",
    "9. Отловить ошибку. Как отлавливать ошибки в питоне. Какие исключения знаете?<br>\n",
    "<br><br>\n",
    "10. Дераторы, зачем нужны, как использовать?"
   ],
   "metadata": {}
  },
  {
   "cell_type": "code",
   "execution_count": null,
   "source": [
    "if __name__ == \"__main__\":\n",
    "    # 1 Тест на класс Test()\n",
    "    print(\"Тестирвоание 1\")\n",
    "    test = Test(4)\n",
    "    test.kek()\n",
    "    test.b = 2\n",
    "    print(test.b)\n",
    "    # test.kek()\n",
    "    print(Test.b)\n",
    "    Test.b = 3\n",
    "    print(Test.b)\n",
    "    print(test.b)\n",
    "    # 2 Тест на функцию main\n",
    "    print(\"Тестирование 2\")\n",
    "    print(main())\n",
    "    print(main(mass=[2, 3]))\n",
    "    print(main(a=2))\n",
    "    print(\"Тестирование 3\")\n",
    "    func(2, 1)"
   ],
   "outputs": [],
   "metadata": {}
  }
 ],
 "metadata": {
  "orig_nbformat": 4,
  "language_info": {
   "name": "python",
   "version": "3.8.10"
  },
  "kernelspec": {
   "name": "python3",
   "display_name": "Python 3.8.10 64-bit ('code_comp': venv)"
  },
  "interpreter": {
   "hash": "086f24abe556553a9b551d8d743a4e801dd0066730da66a499a573838852acb9"
  }
 },
 "nbformat": 4,
 "nbformat_minor": 2
}
